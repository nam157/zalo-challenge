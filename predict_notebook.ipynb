{
 "cells": [
  {
   "cell_type": "code",
   "execution_count": 1,
   "metadata": {},
   "outputs": [],
   "source": [
    "import os\n",
    "import time\n",
    "import warnings\n",
    "\n",
    "import cv2\n",
    "import numpy as np\n",
    "import pandas as pd\n",
    "import time\n",
    "\n",
    "from src.generate_patches import CropImage\n",
    "from src.model_test import AntiSpoofPredict\n",
    "from src.utility import parse_model_name\n",
    "\n",
    "warnings.filterwarnings(\"ignore\")"
   ]
  },
  {
   "cell_type": "code",
   "execution_count": 2,
   "metadata": {},
   "outputs": [],
   "source": [
    "def test(image, model_dir):\n",
    "    model_test = AntiSpoofPredict()\n",
    "    image_cropper = CropImage()\n",
    "\n",
    "    image_bbox = model_test.get_bbox(image)\n",
    "    prediction = np.zeros((1, 2))\n",
    "    # sum the prediction from single model's result\n",
    "    for model_name in os.listdir(model_dir):\n",
    "        h_input, w_input, model_type, scale = parse_model_name(model_name)\n",
    "        param = {\n",
    "            \"org_img\": image,\n",
    "            \"bbox\": image_bbox,\n",
    "            \"scale\": scale,\n",
    "            \"out_w\": w_input,\n",
    "            \"out_h\": h_input,\n",
    "            \"crop\": True,\n",
    "        }\n",
    "        if scale is None:\n",
    "            param[\"crop\"] = False\n",
    "        img = image_cropper.crop(**param)\n",
    "        prediction += model_test.predict(img, os.path.join(model_dir, model_name))\n",
    "\n",
    "    label = np.argmax(prediction)\n",
    "    value = prediction[0][label] / 2\n",
    "    \n",
    "    if label == 1:\n",
    "        return value\n",
    "    else:\n",
    "        return 1 - value\n"
   ]
  },
  {
   "cell_type": "code",
   "execution_count": 3,
   "metadata": {},
   "outputs": [],
   "source": [
    "def post_processing(file_path,model_dir):\n",
    "    cap = cv2.VideoCapture(file_path)\n",
    "    ls = []\n",
    "    c = 0\n",
    "    while cap.isOpened():\n",
    "        ret, frame = cap.read()\n",
    "        try:\n",
    "            if c % 5 == 0:\n",
    "                score = test(frame, model_dir)\n",
    "                ls.append(score)\n",
    "            c+=1\n",
    "        except:\n",
    "            break\n",
    "    return ls"
   ]
  },
  {
   "cell_type": "code",
   "execution_count": 4,
   "metadata": {},
   "outputs": [],
   "source": [
    "test_cases = os.listdir('/home/eco0936_namnh/CODE/zalo-challenge/data/')\n",
    "model_dir = './resources/ckpt/'"
   ]
  },
  {
   "cell_type": "code",
   "execution_count": 5,
   "metadata": {},
   "outputs": [
    {
     "name": "stdout",
     "output_type": "stream",
     "text": [
      "preprocessing ...\n",
      "output will be saved in /result/time_submission.csv\n",
      "output will be saved in /result/jupyter_submission.csv\n"
     ]
    }
   ],
   "source": [
    "all_predicted_time = []\n",
    "all_result = []\n",
    "print('preprocessing ...')\n",
    "for file_name in test_cases:\n",
    "    t1 = time.time()  \n",
    "    file_path = os.path.join('/home/eco0936_namnh/CODE/zalo-challenge/data/',file_name)\n",
    "    result = post_processing(file_path,model_dir)\n",
    "    t2 = time.time()\n",
    "    predicted_time = int(t2*1000 - t1*1000)\n",
    "    all_predicted_time.append((file_name, predicted_time))\n",
    "    all_result.append((file_name,sum(result)/len(result)))\n",
    "df_1 = pd.DataFrame(all_result,columns=[\"fname\", \"liveness_score\"])\n",
    "df_2 = pd.DataFrame(all_predicted_time,columns=[\"fname\", \"time_submission\"])\n",
    "os.makedirs('results/',exist_ok=True)\n",
    "df_1.to_csv(\"results/jupyter_submission.csv\", index=False, encoding=\"utf-8\", float_format=\"%.10f\")\n",
    "df_2.to_csv(\"results/time_submission.csv\", index=False, encoding=\"utf-8\", float_format=\"%.10f\")\n",
    "\n",
    "print('output will be saved in /result/time_submission.csv')\n",
    "print('output will be saved in /result/jupyter_submission.csv')"
   ]
  }
 ],
 "metadata": {
  "kernelspec": {
   "display_name": "Python 3.9.12 ('base')",
   "language": "python",
   "name": "python3"
  },
  "language_info": {
   "codemirror_mode": {
    "name": "ipython",
    "version": 3
   },
   "file_extension": ".py",
   "mimetype": "text/x-python",
   "name": "python",
   "nbconvert_exporter": "python",
   "pygments_lexer": "ipython3",
   "version": "3.9.12"
  },
  "orig_nbformat": 4,
  "vscode": {
   "interpreter": {
    "hash": "9750d797db8e8e3d115f379e30ebef9f9cff6572f9fc2edc27de42ff32b96a93"
   }
  }
 },
 "nbformat": 4,
 "nbformat_minor": 2
}
